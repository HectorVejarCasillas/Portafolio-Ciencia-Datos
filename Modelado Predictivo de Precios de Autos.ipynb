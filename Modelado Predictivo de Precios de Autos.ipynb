{
 "cells": [
  {
   "cell_type": "markdown",
   "id": "0992160b-194b-488a-8285-549c7182aec3",
   "metadata": {},
   "source": [
    "Modelado Predictivo de Precios de Autos\n",
    "Autor: Hector Vejar Casillas"
   ]
  },
  {
   "cell_type": "markdown",
   "id": "1cb4a212-3bae-4712-bbed-5d8e38591bc0",
   "metadata": {},
   "source": [
    "Carga de datos"
   ]
  },
  {
   "cell_type": "code",
   "execution_count": 19,
   "id": "ee338ce7-6a31-48de-a851-337347158f62",
   "metadata": {},
   "outputs": [],
   "source": [
    "import pandas as pd\n",
    "import numpy as np\n",
    "import matplotlib.pyplot as plt\n",
    "import seaborn as sns\n",
    "\n",
    "from sklearn.pipeline import make_pipeline\n",
    "from sklearn.preprocessing import OneHotEncoder, StandardScaler\n",
    "from sklearn.svm import SVC\n",
    "from sklearn.model_selection import train_test_split\n",
    "from sklearn.preprocessing import OrdinalEncoder\n",
    "from sklearn.model_selection import cross_val_score\n",
    "from sklearn.compose import ColumnTransformer\n",
    "from sklearn.tree import DecisionTreeRegressor\n",
    "import xgboost as xgb"
   ]
  },
  {
   "cell_type": "code",
   "execution_count": 2,
   "id": "ec2f427b-7e9c-4bf4-9cb9-6e4705bf2957",
   "metadata": {},
   "outputs": [
    {
     "data": {
      "text/html": [
       "<div>\n",
       "<style scoped>\n",
       "    .dataframe tbody tr th:only-of-type {\n",
       "        vertical-align: middle;\n",
       "    }\n",
       "\n",
       "    .dataframe tbody tr th {\n",
       "        vertical-align: top;\n",
       "    }\n",
       "\n",
       "    .dataframe thead th {\n",
       "        text-align: right;\n",
       "    }\n",
       "</style>\n",
       "<table border=\"1\" class=\"dataframe\">\n",
       "  <thead>\n",
       "    <tr style=\"text-align: right;\">\n",
       "      <th></th>\n",
       "      <th>Brand</th>\n",
       "      <th>Model</th>\n",
       "      <th>Year</th>\n",
       "      <th>Engine_Size</th>\n",
       "      <th>Fuel_Type</th>\n",
       "      <th>Transmission</th>\n",
       "      <th>Mileage</th>\n",
       "      <th>Doors</th>\n",
       "      <th>Owner_Count</th>\n",
       "      <th>Price</th>\n",
       "    </tr>\n",
       "  </thead>\n",
       "  <tbody>\n",
       "    <tr>\n",
       "      <th>0</th>\n",
       "      <td>Kia</td>\n",
       "      <td>Rio</td>\n",
       "      <td>2020</td>\n",
       "      <td>4.2</td>\n",
       "      <td>Diesel</td>\n",
       "      <td>Manual</td>\n",
       "      <td>289944</td>\n",
       "      <td>3</td>\n",
       "      <td>5</td>\n",
       "      <td>8501</td>\n",
       "    </tr>\n",
       "    <tr>\n",
       "      <th>1</th>\n",
       "      <td>Chevrolet</td>\n",
       "      <td>Malibu</td>\n",
       "      <td>2012</td>\n",
       "      <td>2.0</td>\n",
       "      <td>Hybrid</td>\n",
       "      <td>Automatic</td>\n",
       "      <td>5356</td>\n",
       "      <td>2</td>\n",
       "      <td>3</td>\n",
       "      <td>12092</td>\n",
       "    </tr>\n",
       "    <tr>\n",
       "      <th>2</th>\n",
       "      <td>Mercedes</td>\n",
       "      <td>GLA</td>\n",
       "      <td>2020</td>\n",
       "      <td>4.2</td>\n",
       "      <td>Diesel</td>\n",
       "      <td>Automatic</td>\n",
       "      <td>231440</td>\n",
       "      <td>4</td>\n",
       "      <td>2</td>\n",
       "      <td>11171</td>\n",
       "    </tr>\n",
       "    <tr>\n",
       "      <th>3</th>\n",
       "      <td>Audi</td>\n",
       "      <td>Q5</td>\n",
       "      <td>2023</td>\n",
       "      <td>2.0</td>\n",
       "      <td>Electric</td>\n",
       "      <td>Manual</td>\n",
       "      <td>160971</td>\n",
       "      <td>2</td>\n",
       "      <td>1</td>\n",
       "      <td>11780</td>\n",
       "    </tr>\n",
       "    <tr>\n",
       "      <th>4</th>\n",
       "      <td>Volkswagen</td>\n",
       "      <td>Golf</td>\n",
       "      <td>2003</td>\n",
       "      <td>2.6</td>\n",
       "      <td>Hybrid</td>\n",
       "      <td>Semi-Automatic</td>\n",
       "      <td>286618</td>\n",
       "      <td>3</td>\n",
       "      <td>3</td>\n",
       "      <td>2867</td>\n",
       "    </tr>\n",
       "  </tbody>\n",
       "</table>\n",
       "</div>"
      ],
      "text/plain": [
       "        Brand   Model  Year  Engine_Size Fuel_Type    Transmission  Mileage  \\\n",
       "0         Kia     Rio  2020          4.2    Diesel          Manual   289944   \n",
       "1   Chevrolet  Malibu  2012          2.0    Hybrid       Automatic     5356   \n",
       "2    Mercedes     GLA  2020          4.2    Diesel       Automatic   231440   \n",
       "3        Audi      Q5  2023          2.0  Electric          Manual   160971   \n",
       "4  Volkswagen    Golf  2003          2.6    Hybrid  Semi-Automatic   286618   \n",
       "\n",
       "   Doors  Owner_Count  Price  \n",
       "0      3            5   8501  \n",
       "1      2            3  12092  \n",
       "2      4            2  11171  \n",
       "3      2            1  11780  \n",
       "4      3            3   2867  "
      ]
     },
     "execution_count": 2,
     "metadata": {},
     "output_type": "execute_result"
    }
   ],
   "source": [
    "#https://www.kaggle.com/datasets/asinow/car-price-dataset\n",
    "carDataset = pd.read_csv('./car_price_dataset.csv')\n",
    "carDataset.head()\n",
    "#No es necesario verificar  los valores nulos y demas ya que en el anterior analisis se valido todo eso."
   ]
  },
  {
   "cell_type": "markdown",
   "id": "378b6e26-2d9c-4244-9d54-7fd177dc217b",
   "metadata": {},
   "source": [
    "Separacion de los datos para entrenamiento y validacion."
   ]
  },
  {
   "cell_type": "code",
   "execution_count": 4,
   "id": "eef99b57-ff69-4798-80f6-03c9e254de6b",
   "metadata": {},
   "outputs": [],
   "source": [
    "y=carDataset['Price']\n",
    "X= carDataset.drop('Price',axis=1)\n",
    "X_train, X_test, y_train, y_test = train_test_split(X, y, test_size=0.4, random_state=0)"
   ]
  },
  {
   "cell_type": "markdown",
   "id": "179be520-63ae-4f07-aafe-d9b90b6b83e6",
   "metadata": {},
   "source": [
    "Manejo de las columnas categoricas | Encoding "
   ]
  },
  {
   "cell_type": "code",
   "execution_count": 9,
   "id": "0876a34a-73e3-4245-b4f4-b73ae1a171d5",
   "metadata": {},
   "outputs": [],
   "source": [
    "#Para obtener los nombres de las columnas con datos categoricos\n",
    "s = (X_train.dtypes == 'object')\n",
    "object_cols1 = list(s[s].index)\n",
    "s = (X_train.dtypes == 'numeric')\n",
    "object_cols2 = list(s[s].index)\n",
    "# Crear un transformador para las variables categóricas y numericas\n",
    "preprocessor = ColumnTransformer(\n",
    "    transformers=[('cat', OneHotEncoder(), object_cols1), ('num', StandardScaler(), object_cols2)   ],\n",
    "    remainder='passthrough'  # Deja las columnas numéricas sin cambios\n",
    ")"
   ]
  },
  {
   "cell_type": "markdown",
   "id": "945922dd-edb3-4eb1-b597-f898b1691415",
   "metadata": {},
   "source": [
    "Declaramos el pipeline que contiene el modelo"
   ]
  },
  {
   "cell_type": "code",
   "execution_count": 31,
   "id": "87c93484-c506-4e0e-896e-11ccabc07869",
   "metadata": {},
   "outputs": [],
   "source": [
    "pipe = make_pipeline( preprocessor ,DecisionTreeRegressor())"
   ]
  },
  {
   "cell_type": "markdown",
   "id": "9005d216-d4b4-4ba0-bd90-d01088561ae0",
   "metadata": {},
   "source": [
    "Calculamos el score de nuestro modelo"
   ]
  },
  {
   "cell_type": "code",
   "execution_count": 15,
   "id": "c9eaf580-9b6e-4713-b8e9-52d0df576c81",
   "metadata": {},
   "outputs": [
    {
     "name": "stdout",
     "output_type": "stream",
     "text": [
      "464.3607\n"
     ]
    }
   ],
   "source": [
    "scores = -1 * cross_val_score(pipe, X, y, cv=5 , scoring='neg_mean_absolute_error')\n",
    "print(scores.mean())"
   ]
  },
  {
   "cell_type": "code",
   "execution_count": 33,
   "id": "4fbb2201-858f-4238-bad1-9de802951458",
   "metadata": {},
   "outputs": [
    {
     "name": "stdout",
     "output_type": "stream",
     "text": [
      "Porcentaje de efectividad 96.15513465063145\n"
     ]
    }
   ],
   "source": [
    "scores =  cross_val_score(pipe, X, y, cv=5 , scoring='r2')\n",
    "print(f\"Porcentaje de efectividad {scores.mean() * 100}\")"
   ]
  },
  {
   "cell_type": "markdown",
   "id": "a0ac16d0-d5c2-4a89-b632-9e2990e704db",
   "metadata": {},
   "source": [
    "En promedio las predicciones del modelo tienen un error de 464.3607 en cuanto ala prediccion del precio de los automobiles "
   ]
  },
  {
   "cell_type": "markdown",
   "id": "b7aafd43-e11f-4796-a3e2-cbd3b3515d32",
   "metadata": {},
   "source": [
    "Ahora intentare con otro modelo XGboost\n",
    "pip install xgboost\n"
   ]
  },
  {
   "cell_type": "code",
   "execution_count": 21,
   "id": "467743ff-a794-43b2-989b-7232d6e0c23e",
   "metadata": {},
   "outputs": [
    {
     "name": "stdout",
     "output_type": "stream",
     "text": [
      "186.13496920166014\n"
     ]
    }
   ],
   "source": [
    "pipe = make_pipeline( preprocessor ,xgb.XGBRegressor(objective='reg:squarederror', random_state=42))\n",
    "scores = -1 * cross_val_score(pipe, X, y, cv=5 , scoring='neg_mean_absolute_error')\n",
    "print(scores.mean())"
   ]
  },
  {
   "cell_type": "code",
   "execution_count": 35,
   "id": "7bd40828-e999-45d2-b107-ba53171080d2",
   "metadata": {},
   "outputs": [
    {
     "name": "stdout",
     "output_type": "stream",
     "text": [
      "Porcentaje de efectividad 96.16516020142821\n"
     ]
    }
   ],
   "source": [
    "scores =  cross_val_score(pipe, X, y, cv=5 , scoring='r2')\n",
    "print(f\"Porcentaje de efectividad {scores.mean() * 100}\")"
   ]
  },
  {
   "cell_type": "code",
   "execution_count": null,
   "id": "5a282f91-71ae-469b-b44f-830c64397556",
   "metadata": {},
   "outputs": [],
   "source": []
  }
 ],
 "metadata": {
  "kernelspec": {
   "display_name": "Python 3 (ipykernel)",
   "language": "python",
   "name": "python3"
  },
  "language_info": {
   "codemirror_mode": {
    "name": "ipython",
    "version": 3
   },
   "file_extension": ".py",
   "mimetype": "text/x-python",
   "name": "python",
   "nbconvert_exporter": "python",
   "pygments_lexer": "ipython3",
   "version": "3.12.4"
  }
 },
 "nbformat": 4,
 "nbformat_minor": 5
}
